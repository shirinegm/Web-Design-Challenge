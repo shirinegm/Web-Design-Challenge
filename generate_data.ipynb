{
 "cells": [
  {
   "cell_type": "code",
   "execution_count": null,
   "id": "da8f2288",
   "metadata": {},
   "outputs": [],
   "source": [
    "import pandas as pd"
   ]
  },
  {
   "cell_type": "code",
   "execution_count": null,
   "id": "b21e7dbe",
   "metadata": {},
   "outputs": [],
   "source": [
    "city_weather_df = pd.read_csv('Resources/cities_weather_df.csv')\n",
    "city_weather_df.head()"
   ]
  },
  {
   "cell_type": "code",
   "execution_count": null,
   "id": "736e4488",
   "metadata": {},
   "outputs": [],
   "source": [
    "city_weather_df = city_weather_df.rename(columns={'Unnamed: 0':'ID',\n",
    "                                                  'city':'City',\n",
    "                                                  'latitude':'Lat',\n",
    "                                                  'longitude':'Lon',\n",
    "                                                  'temperature':'Temerature',\n",
    "                                                  'humidity':'Humidity',\n",
    "                                                  'cloudiness':'Cloudiness',\n",
    "                                                  'wind_speed':'Wind Speed'})\n",
    "city_weather_df.head()"
   ]
  },
  {
   "cell_type": "code",
   "execution_count": null,
   "id": "1e7a9b63",
   "metadata": {},
   "outputs": [],
   "source": [
    "city_weather_html = city_weather_df.to_html(formatters = {'content': lambda k: k.replace('\\n', '')},\n",
    "   escape = False, classes=[\"table table-hover\", \"table-striped\", \"table-hover\"])\n",
    "city_weather_html"
   ]
  },
  {
   "cell_type": "code",
   "execution_count": null,
   "id": "fa715de0",
   "metadata": {},
   "outputs": [],
   "source": []
  }
 ],
 "metadata": {
  "kernelspec": {
   "display_name": "Python 3",
   "language": "python",
   "name": "python3"
  },
  "language_info": {
   "codemirror_mode": {
    "name": "ipython",
    "version": 3
   },
   "file_extension": ".py",
   "mimetype": "text/x-python",
   "name": "python",
   "nbconvert_exporter": "python",
   "pygments_lexer": "ipython3",
   "version": "3.8.8"
  }
 },
 "nbformat": 4,
 "nbformat_minor": 5
}
